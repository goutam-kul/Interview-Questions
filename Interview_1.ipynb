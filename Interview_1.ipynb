{
 "cells": [
  {
   "cell_type": "markdown",
   "id": "974fd321-d0af-4eff-91ea-7db1368717e8",
   "metadata": {},
   "source": [
    "# Questions \n",
    "\n",
    "1. What have you done/tell me about yourself ?\n",
    "2. What is EDA ?\n",
    "3. Explain you customer churn project.\n",
    "4. What is REST API ?\n",
    "5. What is linear regression ?\n",
    "6. What is logistic regression ?\n",
    "7. How do you select a machine learning algorithm for your task ?\n",
    "8. What is Natural Language Processing ?\n",
    "9. What is Convolutional Neural Network ?"
   ]
  },
  {
   "cell_type": "markdown",
   "id": "11c5b57b-5226-4a52-9e75-f54f84ffdc80",
   "metadata": {},
   "source": [
    "# 2. what is exploratory data analysis? \n",
    "\n",
    "- Exploratory Data Analysis is a step in a Data science project where we perform different statistical analysis and visualization to find pattern and insights in the dataset. The main goal of EDA is to be familiar with the data and summarize all the quirky instances and pattern in the data. "
   ]
  },
  {
   "cell_type": "markdown",
   "id": "4a5a9cde-0771-4738-ac0b-54d8c22b4362",
   "metadata": {},
   "source": [
    "# 3. Explain your customer churn project.\n",
    "\n",
    "- The customer churn application I built is able to predict based on the historical data and customer demographic which custmer will leave the company. Customer churn is a major problem for all the service based, subscription based company. My model can essentially make predictions on if the customer will leave the company or not and this can help the company take necessary actions to decrease attrition rates."
   ]
  },
  {
   "cell_type": "markdown",
   "id": "49e7aa3c-5af3-4a7a-8e58-aac9e2e0bcd4",
   "metadata": {},
   "source": [
    "# 4.What is REST API ?\n",
    "\n",
    "-  REST stand for Representational State Transfer. REST API is a flexible ligth weight Interface to connect different application together. I used REST API in my customer churn project to POST data from my front end form to the model so that we can GET prediction from the model and show it in the frontend. "
   ]
  },
  {
   "cell_type": "markdown",
   "id": "5733d742-4e24-4d33-838a-8caf0a7fe7b2",
   "metadata": {},
   "source": [
    "# 5. What is Linear Regression ?\n",
    "\n",
    "- Linear Regression is an statistical technique to fit a relation between two variables, given that they have a linear relation. for eg- the weight and height of a human has a linear relation so depending on the height we can estimate an arbitary value for the weight. This is what Linear regression is in Laymen terms. "
   ]
  },
  {
   "cell_type": "markdown",
   "id": "13a6092f-ac7f-4dc9-96ea-09b8440670b7",
   "metadata": {},
   "source": [
    "# 6. What is Logistic Regression ?\n",
    "\n",
    "- Logistic Regression is a supervised learning algorithm. Logistic regression estimates the log odds of an event occuring as a linear combination of all the independent variables. In logistic regression a logit transformation(log odds) is applied to the odds of the event. Since the output is probability it can be used in classification task as well."
   ]
  },
  {
   "cell_type": "markdown",
   "id": "b519a2f5-e14e-482d-a844-3de2415da4d3",
   "metadata": {},
   "source": [
    "# 7. How do you select a Machine Learning algorithm for a certain task?\n",
    "\n",
    "- Choice of Machine learning algorithm depends entirely on the task in hand. Example -\n",
    "  1. **Supervised task** -\n",
    "     - In supervised task we can use eithar Regression or Clasification techniques\n",
    "  2. **Unsupervised task** -\n",
    "     - Clusering algorithms can be used for these kinds of task\n",
    "  3. **Depending on the data** -\n",
    "     - If the data contains outliers choosing tree based algorithms can be key\n",
    "     - If the data is large ANN and Deep learning algorithms can be considered."
   ]
  },
  {
   "cell_type": "markdown",
   "id": "1e900b7f-0e37-49ef-a070-5c441846859c",
   "metadata": {},
   "source": [
    "# 8. What is Natural Language Processing ? \n",
    "\n",
    "- Natural language processing is a subfield in AI. It is process of making computer learn and understand natural languages. It is booming topic in the word right now because of its substantial applications in real life. Eg- Chat bots, Machine translation, Fraud Detection, Fake News and Spam classification etc. "
   ]
  },
  {
   "cell_type": "markdown",
   "id": "50380fa8-2e57-4c0e-9f5a-ee456bbbfde6",
   "metadata": {},
   "source": [
    "# 9. What is a convolutinal Neural Network ?\n",
    "\n",
    "- A convolutional Neural Network is a major Deep Learning Algorithm, mostly used for application in Image related task. It has several unique parts eg- Convolutional Layer and Pooling Layers. Convolutional Neural Nets are very good at processing Tablular data and since digital images are set of Pixel values stored in tabular form, CNN work very well with them.\n",
    "- The CNN consist of Convolution Layers, Pooling Layers and fully connected layer.\n",
    "- The CNN uses kernels operations on the image to extract granular information. The fully connected layer in the end then quantifies all the patterns from the image and predicts an output."
   ]
  },
  {
   "cell_type": "code",
   "execution_count": null,
   "id": "7b91de01-570b-461c-ac11-2d306715beaf",
   "metadata": {},
   "outputs": [],
   "source": []
  }
 ],
 "metadata": {
  "kernelspec": {
   "display_name": "Python 3 (ipykernel)",
   "language": "python",
   "name": "python3"
  },
  "language_info": {
   "codemirror_mode": {
    "name": "ipython",
    "version": 3
   },
   "file_extension": ".py",
   "mimetype": "text/x-python",
   "name": "python",
   "nbconvert_exporter": "python",
   "pygments_lexer": "ipython3",
   "version": "3.10.14"
  }
 },
 "nbformat": 4,
 "nbformat_minor": 5
}
